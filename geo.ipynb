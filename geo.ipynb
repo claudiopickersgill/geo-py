{
 "cells": [
  {
   "cell_type": "code",
   "execution_count": 1,
   "metadata": {},
   "outputs": [],
   "source": [
    "import googlemaps\n",
    "from get_dist import getDistanceBetweenPointsNew\n",
    "import utils_config\n",
    "config_file=\"./config.json\"\n",
    "config = utils_config.load_config(config_file)"
   ]
  },
  {
   "cell_type": "code",
   "execution_count": 2,
   "metadata": {},
   "outputs": [],
   "source": [
    "gmaps = googlemaps.Client(key=config.key)"
   ]
  },
  {
   "cell_type": "code",
   "execution_count": 3,
   "metadata": {},
   "outputs": [],
   "source": [
    "num = input(\"House number:\")\n",
    "street = input(\"Street name:\")\n",
    "city = input(\"City name:\")\n",
    "state = input(\"State name:\")\n",
    "\n",
    "geocode_result = gmaps.geocode(f\"{num}, {street} - {city}/{state}\")"
   ]
  },
  {
   "cell_type": "code",
   "execution_count": null,
   "metadata": {},
   "outputs": [],
   "source": [
    "lat = geocode_result[0]['geometry']['location']['lat']\n",
    "long = geocode_result[0]['geometry']['location']['lng']\n",
    "lat_ne = geocode_result[0]['geometry']['viewport']['northeast']['lat']\n",
    "long_ne = geocode_result[0]['geometry']['viewport']['northeast']['lng']\n",
    "lat_sw = geocode_result[0]['geometry']['viewport']['southwest']['lat']\n",
    "long_sw = geocode_result[0]['geometry']['viewport']['southwest']['lng']\n",
    "\n",
    "print(\"Lat:\",lat)\n",
    "print(\"Long:\",long)\n",
    "\n",
    "# Viewport = 2km\n",
    "\n",
    "#diff_N = 0.0080701, 0.0084379\n",
    "#diff_S = 0.0078277, 0.00874\n",
    "lat_ne = lat + 0.0080701\n",
    "long_ne = long + 0.0084379\n",
    "lat_sw = lat - 0.0078277\n",
    "long_sw = long - 0.00874\n",
    "\n",
    "print(\"Viewport/Northeast/Lat:\", lat_ne)\n",
    "print(\"Viewport/Northeast/Long:\", long_ne)\n",
    "print(\"Viewport/Southwest/Lat:\", lat_sw)\n",
    "print(\"Viewport/Southwest/Long:\", long_sw)\n"
   ]
  },
  {
   "attachments": {},
   "cell_type": "markdown",
   "metadata": {},
   "source": [
    "_____________"
   ]
  },
  {
   "attachments": {},
   "cell_type": "markdown",
   "metadata": {},
   "source": [
    "### Reverse Geocode"
   ]
  },
  {
   "cell_type": "code",
   "execution_count": null,
   "metadata": {},
   "outputs": [],
   "source": [
    "lat_rw = input(\"Lat:\")\n",
    "long_rw = input(\"Long:\")"
   ]
  },
  {
   "cell_type": "code",
   "execution_count": null,
   "metadata": {},
   "outputs": [],
   "source": [
    "geocode_result_reverse = gmaps.reverse_geocode((f'{lat},{long}'))"
   ]
  },
  {
   "cell_type": "code",
   "execution_count": null,
   "metadata": {},
   "outputs": [],
   "source": [
    "address = geocode_result_reverse[0]['formatted_address']"
   ]
  },
  {
   "cell_type": "code",
   "execution_count": null,
   "metadata": {},
   "outputs": [],
   "source": [
    "print(\"Endereço:\", address)\n",
    "\n",
    "#Viewport = 2km\n",
    "\n",
    "lat_ne_rw = float(lat_rw) + 0.0080701\n",
    "long_ne_rw = float(long_rw) + 0.0084379\n",
    "lat_sw_rw = float(lat_rw) - 0.0078277\n",
    "long_sw_rw = float(long_rw) - 0.00874\n",
    "\n",
    "print(\"Viewport/Northeast/Lat:\", lat_ne_rw)\n",
    "print(\"Viewport/Northeast/Long:\", long_ne_rw)\n",
    "print(\"Viewport/Southwest/Lat:\", lat_sw_rw)\n",
    "print(\"Viewport/Southwest/Long:\", long_sw_rw)"
   ]
  },
  {
   "attachments": {},
   "cell_type": "markdown",
   "metadata": {},
   "source": [
    "______________"
   ]
  },
  {
   "attachments": {},
   "cell_type": "markdown",
   "metadata": {},
   "source": [
    "### Distancia entre os pontos"
   ]
  },
  {
   "cell_type": "code",
   "execution_count": null,
   "metadata": {},
   "outputs": [
    {
     "data": {
      "text/plain": [
       "2.4004526718"
      ]
     },
     "execution_count": 10,
     "metadata": {},
     "output_type": "execute_result"
    }
   ],
   "source": [
    "# distancia em N\n",
    "getDistanceBetweenPointsNew(lat, long, lat_ne, long_ne, unit='kilometers')\n",
    "\n",
    "# distancia em S\n",
    "getDistanceBetweenPointsNew(lat, long, lat_sw, long_sw, unit='kilometers')\n",
    "\n",
    "# distancia horizontal total\n",
    "getDistanceBetweenPointsNew(lat_sw, long_sw, lat_ne, long_ne, unit='kilometers')"
   ]
  }
 ],
 "metadata": {
  "kernelspec": {
   "display_name": ".geopy-venv",
   "language": "python",
   "name": ".geopy-venv"
  },
  "language_info": {
   "codemirror_mode": {
    "name": "ipython",
    "version": 3
   },
   "file_extension": ".py",
   "mimetype": "text/x-python",
   "name": "python",
   "nbconvert_exporter": "python",
   "pygments_lexer": "ipython3",
   "version": "3.10.9"
  },
  "orig_nbformat": 4
 },
 "nbformat": 4,
 "nbformat_minor": 2
}
